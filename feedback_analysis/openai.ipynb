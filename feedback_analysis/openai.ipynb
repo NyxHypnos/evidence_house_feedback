{
 "cells": [
  {
   "cell_type": "code",
   "execution_count": 1,
   "metadata": {},
   "outputs": [],
   "source": [
    "import datetime\n",
    "import pandas as pd\n",
    "import json\n",
    "import os\n",
    "import openai"
   ]
  },
  {
   "cell_type": "code",
   "execution_count": 3,
   "metadata": {},
   "outputs": [],
   "source": [
    "# Have file with the key and organization: {\"api_key\": \"x\", \"organization_id\": \"x\"}\n",
    "with open(\"../keys/key.json\", 'r') as openfile:\n",
    "    # Reading from json file\n",
    "    json_object = json.load(openfile)\n",
    " "
   ]
  },
  {
   "cell_type": "code",
   "execution_count": 4,
   "metadata": {},
   "outputs": [],
   "source": [
    "openai.api_key = json_object[\"api_key\"]\n",
    "openai.organization = json_object[\"organization\"]\n",
    "\n",
    "def get_response(system_message, user_message, max_tokens=256):\n",
    "    response = openai.ChatCompletion.create(\n",
    "      model=\"gpt-3.5-turbo-16k\",\n",
    "      messages=[\n",
    "        {\n",
    "          \"role\": \"system\",\n",
    "          \"content\": system_message\n",
    "        },\n",
    "        {\n",
    "          \"role\": \"user\",\n",
    "          \"content\": user_message\n",
    "        }\n",
    "      ],\n",
    "      temperature=0.01,\n",
    "      max_tokens=max_tokens\n",
    "    )\n",
    "    return response\n",
    "\n",
    "\n"
   ]
  },
  {
   "cell_type": "code",
   "execution_count": 5,
   "metadata": {},
   "outputs": [
    {
     "data": {
      "text/plain": [
       "<OpenAIObject chat.completion id=chatcmpl-7ktxGjdbFmwu6OCAEPYFOBC2D8h2M at 0x7f653057bd10> JSON: {\n",
       "  \"id\": \"chatcmpl-7ktxGjdbFmwu6OCAEPYFOBC2D8h2M\",\n",
       "  \"object\": \"chat.completion\",\n",
       "  \"created\": 1691412534,\n",
       "  \"model\": \"gpt-3.5-turbo-16k-0613\",\n",
       "  \"choices\": [\n",
       "    {\n",
       "      \"index\": 0,\n",
       "      \"message\": {\n",
       "        \"role\": \"assistant\",\n",
       "        \"content\": \"{\\n  \\\"sentiment\\\": \\\"positive\\\"\\n}\"\n",
       "      },\n",
       "      \"finish_reason\": \"stop\"\n",
       "    }\n",
       "  ],\n",
       "  \"usage\": {\n",
       "    \"prompt_tokens\": 26,\n",
       "    \"completion_tokens\": 10,\n",
       "    \"total_tokens\": 36\n",
       "  }\n",
       "}"
      ]
     },
     "execution_count": 5,
     "metadata": {},
     "output_type": "execute_result"
    }
   ],
   "source": [
    "get_response(\"Get the sentiments of the sentence and return as a json\", \"This services is amazing\")"
   ]
  },
  {
   "cell_type": "code",
   "execution_count": 6,
   "metadata": {},
   "outputs": [],
   "source": [
    "# Open files\n",
    "filename = '../data/hrmc_feedback.csv'\n",
    "with open(filename, 'r') as file:\n",
    "    # Reading the entire content of the file\n",
    "    content = file.read()\n",
    "    "
   ]
  },
  {
   "cell_type": "code",
   "execution_count": 7,
   "metadata": {},
   "outputs": [
    {
     "data": {
      "text/html": [
       "<div>\n",
       "<style scoped>\n",
       "    .dataframe tbody tr th:only-of-type {\n",
       "        vertical-align: middle;\n",
       "    }\n",
       "\n",
       "    .dataframe tbody tr th {\n",
       "        vertical-align: top;\n",
       "    }\n",
       "\n",
       "    .dataframe thead th {\n",
       "        text-align: right;\n",
       "    }\n",
       "</style>\n",
       "<table border=\"1\" class=\"dataframe\">\n",
       "  <thead>\n",
       "    <tr style=\"text-align: right;\">\n",
       "      <th></th>\n",
       "      <th>Unnamed: 0</th>\n",
       "      <th>path_or_service_name</th>\n",
       "      <th>feedback</th>\n",
       "    </tr>\n",
       "  </thead>\n",
       "  <tbody>\n",
       "    <tr>\n",
       "      <th>0</th>\n",
       "      <td>0</td>\n",
       "      <td>/government/publications/vat-registration-noti...</td>\n",
       "      <td>address for VAT1c\\naddrss on notes diffrent to...</td>\n",
       "    </tr>\n",
       "    <tr>\n",
       "      <th>1</th>\n",
       "      <td>1</td>\n",
       "      <td>/guidance/register-for-vat-if-you-own-land-wit...</td>\n",
       "      <td>Trying to print how to register for VAT when o...</td>\n",
       "    </tr>\n",
       "    <tr>\n",
       "      <th>2</th>\n",
       "      <td>2</td>\n",
       "      <td>/guidance/register-for-vat-if-you-own-land-wit...</td>\n",
       "      <td>reading the notice\\nThe notice does not say wh...</td>\n",
       "    </tr>\n",
       "    <tr>\n",
       "      <th>3</th>\n",
       "      <td>3</td>\n",
       "      <td>/government/publications/vat-application-for-r...</td>\n",
       "      <td>Viewing VAT 1B Notes\\nAddress for [REMOVED] on...</td>\n",
       "    </tr>\n",
       "    <tr>\n",
       "      <th>4</th>\n",
       "      <td>4</td>\n",
       "      <td>/guidance/check-when-you-can-expect-a-reply-fr...</td>\n",
       "      <td>want to send you a letter but no address\\nno a...</td>\n",
       "    </tr>\n",
       "  </tbody>\n",
       "</table>\n",
       "</div>"
      ],
      "text/plain": [
       "   Unnamed: 0                               path_or_service_name  \\\n",
       "0           0  /government/publications/vat-registration-noti...   \n",
       "1           1  /guidance/register-for-vat-if-you-own-land-wit...   \n",
       "2           2  /guidance/register-for-vat-if-you-own-land-wit...   \n",
       "3           3  /government/publications/vat-application-for-r...   \n",
       "4           4  /guidance/check-when-you-can-expect-a-reply-fr...   \n",
       "\n",
       "                                            feedback  \n",
       "0  address for VAT1c\\naddrss on notes diffrent to...  \n",
       "1  Trying to print how to register for VAT when o...  \n",
       "2  reading the notice\\nThe notice does not say wh...  \n",
       "3  Viewing VAT 1B Notes\\nAddress for [REMOVED] on...  \n",
       "4  want to send you a letter but no address\\nno a...  "
      ]
     },
     "execution_count": 7,
     "metadata": {},
     "output_type": "execute_result"
    }
   ],
   "source": [
    "import pandas as pd\n",
    "df = pd.read_csv(filename)\n",
    "df.head()"
   ]
  },
  {
   "cell_type": "code",
   "execution_count": 8,
   "metadata": {},
   "outputs": [],
   "source": [
    "# Newlines might confuse AI reading the csv data.\n",
    "df[\"feedback\"] = df[\"feedback\"].str.replace(\"\\n\", \" \")\n"
   ]
  },
  {
   "cell_type": "code",
   "execution_count": null,
   "metadata": {},
   "outputs": [],
   "source": [
    "df_test = df.copy()\n",
    "df_test[\"what_where_you_doing\"] = [feedback.split(\"\\n\", 1)[0] for feedback in df.feedback]\n",
    "df_test[\"what_went_wrong\"]= [feedback.split(\"\\n\", 1)[1] for feedback in df.feedback]\n",
    "df_test"
   ]
  },
  {
   "cell_type": "code",
   "execution_count": null,
   "metadata": {},
   "outputs": [],
   "source": [
    "df = df.rename(columns = {df.keys()[0]: \"key\"})\n"
   ]
  },
  {
   "cell_type": "code",
   "execution_count": null,
   "metadata": {},
   "outputs": [],
   "source": [
    "system_message = \"You will parse the data as a csv, \\\n",
    "                    and extract the following data \\\n",
    "                    key: \\\n",
    "                    service: \\\n",
    "                    topic: topic of feedback, \\\n",
    "                    sumary: no more than a 10 word summary of the feedback, \\\n",
    "                    problem: boolean whether people have a problem, \\\n",
    "                    problem_summary: a few word summary of the problem, \\\n",
    "                    website_issue: boolean whether it relates to website issues \\\n",
    "                    tax_issue: bollean technical tax issue, \\\n",
    "                    guidance_issue: boolean whether it relates to guidance issues, \\\n",
    "                    spam: boolean is it spam, \\\n",
    "                    sentiment: the sentiment of the feedback , i.e. positive, negative, neurtral, \\\n",
    "                    language: the language of the feedback, e.g. English, French \\\n",
    "                    fraud: boolean does it relate to fraud, \\\n",
    "                    urgency: boolean is it urgent, \\\n",
    "                    seriousness: boolean is it serious, \\\n",
    "                    keywords: and keywords of the feedback \\\n",
    "                    in a json format\"\n",
    "\n",
    "responses = []\n",
    "for i in range(len(df)//5):\n",
    "    user_message = df[(5*i):(5 + 5*i)].to_csv()\n",
    "    resp = get_response(system_message, user_message , max_tokens=10000)\n",
    "    responses.append(resp.choices[0].message.content)\n"
   ]
  },
  {
   "cell_type": "code",
   "execution_count": null,
   "metadata": {},
   "outputs": [],
   "source": [
    "LLM_output = pd.concat([pd.read_json(response) for response in responses])\n",
    "sample_df = pd.concat([df, LLM_output.reset_index()], axis =1)[0:len(LLM_output)]\n",
    "sample_df"
   ]
  },
  {
   "cell_type": "code",
   "execution_count": null,
   "metadata": {},
   "outputs": [],
   "source": [
    "today = datetime.datetime.today()\n",
    "start_day = today + datetime.timedelta(days=-390)\n",
    "sample_df[\"date\"] = [(start_day + datetime.timedelta(days=row/30)).strftime('%Y-%m-%d') for row in range(0, len(sample_df))]\n",
    "\n"
   ]
  },
  {
   "cell_type": "code",
   "execution_count": null,
   "metadata": {},
   "outputs": [],
   "source": [
    "sample_df.to_csv(\"../data/feedback_output_v3.csv\")"
   ]
  }
 ],
 "metadata": {
  "kernelspec": {
   "display_name": "base",
   "language": "python",
   "name": "python3"
  },
  "language_info": {
   "codemirror_mode": {
    "name": "ipython",
    "version": 3
   },
   "file_extension": ".py",
   "mimetype": "text/x-python",
   "name": "python",
   "nbconvert_exporter": "python",
   "pygments_lexer": "ipython3",
   "version": "3.9.7"
  },
  "orig_nbformat": 4
 },
 "nbformat": 4,
 "nbformat_minor": 2
}
